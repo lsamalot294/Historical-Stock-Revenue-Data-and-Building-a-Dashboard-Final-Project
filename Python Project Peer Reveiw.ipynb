{
 "cells": [
  {
   "cell_type": "markdown",
   "id": "5636e23a-5dd8-4038-958d-d8817fd16f29",
   "metadata": {},
   "source": [
    "<h3>INSTALLING LIBRARIES SECTION"
   ]
  },
  {
   "cell_type": "code",
   "execution_count": 1,
   "id": "d9323c69-3ad4-4da3-8c15-7de86425d787",
   "metadata": {
    "tags": []
   },
   "outputs": [
    {
     "name": "stdout",
     "output_type": "stream",
     "text": [
      "Requirement already satisfied: yfinance==0.2.4 in /home/jupyterlab/conda/envs/python/lib/python3.7/site-packages (0.2.4)\n",
      "Requirement already satisfied: pandas>=1.3.0 in /home/jupyterlab/conda/envs/python/lib/python3.7/site-packages (from yfinance==0.2.4) (1.3.5)\n",
      "Requirement already satisfied: numpy>=1.16.5 in /home/jupyterlab/conda/envs/python/lib/python3.7/site-packages (from yfinance==0.2.4) (1.21.6)\n",
      "Requirement already satisfied: requests>=2.26 in /home/jupyterlab/conda/envs/python/lib/python3.7/site-packages (from yfinance==0.2.4) (2.29.0)\n",
      "Requirement already satisfied: multitasking>=0.0.7 in /home/jupyterlab/conda/envs/python/lib/python3.7/site-packages (from yfinance==0.2.4) (0.0.11)\n",
      "Requirement already satisfied: lxml>=4.9.1 in /home/jupyterlab/conda/envs/python/lib/python3.7/site-packages (from yfinance==0.2.4) (4.9.2)\n",
      "Requirement already satisfied: appdirs>=1.4.4 in /home/jupyterlab/conda/envs/python/lib/python3.7/site-packages (from yfinance==0.2.4) (1.4.4)\n",
      "Requirement already satisfied: pytz>=2022.5 in /home/jupyterlab/conda/envs/python/lib/python3.7/site-packages (from yfinance==0.2.4) (2023.3)\n",
      "Requirement already satisfied: frozendict>=2.3.4 in /home/jupyterlab/conda/envs/python/lib/python3.7/site-packages (from yfinance==0.2.4) (2.3.8)\n",
      "Requirement already satisfied: cryptography>=3.3.2 in /home/jupyterlab/conda/envs/python/lib/python3.7/site-packages (from yfinance==0.2.4) (38.0.2)\n",
      "Requirement already satisfied: beautifulsoup4>=4.11.1 in /home/jupyterlab/conda/envs/python/lib/python3.7/site-packages (from yfinance==0.2.4) (4.11.1)\n",
      "Requirement already satisfied: html5lib>=1.1 in /home/jupyterlab/conda/envs/python/lib/python3.7/site-packages (from yfinance==0.2.4) (1.1)\n",
      "Requirement already satisfied: soupsieve>1.2 in /home/jupyterlab/conda/envs/python/lib/python3.7/site-packages (from beautifulsoup4>=4.11.1->yfinance==0.2.4) (2.3.2.post1)\n",
      "Requirement already satisfied: cffi>=1.12 in /home/jupyterlab/conda/envs/python/lib/python3.7/site-packages (from cryptography>=3.3.2->yfinance==0.2.4) (1.15.1)\n",
      "Requirement already satisfied: six>=1.9 in /home/jupyterlab/conda/envs/python/lib/python3.7/site-packages (from html5lib>=1.1->yfinance==0.2.4) (1.16.0)\n",
      "Requirement already satisfied: webencodings in /home/jupyterlab/conda/envs/python/lib/python3.7/site-packages (from html5lib>=1.1->yfinance==0.2.4) (0.5.1)\n",
      "Requirement already satisfied: python-dateutil>=2.7.3 in /home/jupyterlab/conda/envs/python/lib/python3.7/site-packages (from pandas>=1.3.0->yfinance==0.2.4) (2.8.2)\n",
      "Requirement already satisfied: charset-normalizer<4,>=2 in /home/jupyterlab/conda/envs/python/lib/python3.7/site-packages (from requests>=2.26->yfinance==0.2.4) (3.1.0)\n",
      "Requirement already satisfied: idna<4,>=2.5 in /home/jupyterlab/conda/envs/python/lib/python3.7/site-packages (from requests>=2.26->yfinance==0.2.4) (3.4)\n",
      "Requirement already satisfied: urllib3<1.27,>=1.21.1 in /home/jupyterlab/conda/envs/python/lib/python3.7/site-packages (from requests>=2.26->yfinance==0.2.4) (1.26.15)\n",
      "Requirement already satisfied: certifi>=2017.4.17 in /home/jupyterlab/conda/envs/python/lib/python3.7/site-packages (from requests>=2.26->yfinance==0.2.4) (2023.5.7)\n",
      "Requirement already satisfied: pycparser in /home/jupyterlab/conda/envs/python/lib/python3.7/site-packages (from cffi>=1.12->cryptography>=3.3.2->yfinance==0.2.4) (2.21)\n",
      "Requirement already satisfied: pandas in /home/jupyterlab/conda/envs/python/lib/python3.7/site-packages (1.3.5)\n",
      "Requirement already satisfied: python-dateutil>=2.7.3 in /home/jupyterlab/conda/envs/python/lib/python3.7/site-packages (from pandas) (2.8.2)\n",
      "Requirement already satisfied: pytz>=2017.3 in /home/jupyterlab/conda/envs/python/lib/python3.7/site-packages (from pandas) (2023.3)\n",
      "Requirement already satisfied: numpy>=1.17.3 in /home/jupyterlab/conda/envs/python/lib/python3.7/site-packages (from pandas) (1.21.6)\n",
      "Requirement already satisfied: six>=1.5 in /home/jupyterlab/conda/envs/python/lib/python3.7/site-packages (from python-dateutil>=2.7.3->pandas) (1.16.0)\n"
     ]
    }
   ],
   "source": [
    "!pip install yfinance==0.2.4\n",
    "#!pip install pandas==1.3.\n",
    "!pip install pandas\n"
   ]
  },
  {
   "cell_type": "code",
   "execution_count": null,
   "id": "70f8ee44-211b-4646-8bfe-1ea3523af063",
   "metadata": {},
   "outputs": [],
   "source": [
    "!mamba install bs4"
   ]
  },
  {
   "cell_type": "markdown",
   "id": "6988a52f-4980-4d8e-88fc-ba259d08e404",
   "metadata": {
    "tags": []
   },
   "source": [
    "<h3> IMPORTING LIBRARIES AND MODULES SECTION"
   ]
  },
  {
   "cell_type": "code",
   "execution_count": 2,
   "id": "b43dd926-723d-4414-9f66-82d8162b2ef0",
   "metadata": {
    "tags": []
   },
   "outputs": [],
   "source": [
    "import yfinance as yf\n",
    "import pandas as pd\n"
   ]
  },
  {
   "cell_type": "code",
   "execution_count": null,
   "id": "1a7ae31e-e173-4344-a502-3bbbe8e67841",
   "metadata": {},
   "outputs": [],
   "source": [
    "from bs4 import BeautifulSoup"
   ]
  },
  {
   "cell_type": "markdown",
   "id": "9e52c0ad-c77d-4d81-b9fb-22a78f3c9334",
   "metadata": {},
   "source": [
    "<h2> 1st Question"
   ]
  },
  {
   "cell_type": "code",
   "execution_count": 3,
   "id": "58d035ff-59aa-4bb9-8801-c5e5a902b482",
   "metadata": {
    "tags": []
   },
   "outputs": [
    {
     "data": {
      "text/html": [
       "<div>\n",
       "<style scoped>\n",
       "    .dataframe tbody tr th:only-of-type {\n",
       "        vertical-align: middle;\n",
       "    }\n",
       "\n",
       "    .dataframe tbody tr th {\n",
       "        vertical-align: top;\n",
       "    }\n",
       "\n",
       "    .dataframe thead th {\n",
       "        text-align: right;\n",
       "    }\n",
       "</style>\n",
       "<table border=\"1\" class=\"dataframe\">\n",
       "  <thead>\n",
       "    <tr style=\"text-align: right;\">\n",
       "      <th></th>\n",
       "      <th>Open</th>\n",
       "      <th>High</th>\n",
       "      <th>Low</th>\n",
       "      <th>Close</th>\n",
       "      <th>Volume</th>\n",
       "      <th>Dividends</th>\n",
       "      <th>Stock Splits</th>\n",
       "    </tr>\n",
       "    <tr>\n",
       "      <th>Date</th>\n",
       "      <th></th>\n",
       "      <th></th>\n",
       "      <th></th>\n",
       "      <th></th>\n",
       "      <th></th>\n",
       "      <th></th>\n",
       "      <th></th>\n",
       "    </tr>\n",
       "  </thead>\n",
       "  <tbody>\n",
       "    <tr>\n",
       "      <th>2010-06-29 00:00:00-04:00</th>\n",
       "      <td>1.266667</td>\n",
       "      <td>1.666667</td>\n",
       "      <td>1.169333</td>\n",
       "      <td>1.592667</td>\n",
       "      <td>281494500</td>\n",
       "      <td>0.0</td>\n",
       "      <td>0.0</td>\n",
       "    </tr>\n",
       "    <tr>\n",
       "      <th>2010-06-30 00:00:00-04:00</th>\n",
       "      <td>1.719333</td>\n",
       "      <td>2.028000</td>\n",
       "      <td>1.553333</td>\n",
       "      <td>1.588667</td>\n",
       "      <td>257806500</td>\n",
       "      <td>0.0</td>\n",
       "      <td>0.0</td>\n",
       "    </tr>\n",
       "    <tr>\n",
       "      <th>2010-07-01 00:00:00-04:00</th>\n",
       "      <td>1.666667</td>\n",
       "      <td>1.728000</td>\n",
       "      <td>1.351333</td>\n",
       "      <td>1.464000</td>\n",
       "      <td>123282000</td>\n",
       "      <td>0.0</td>\n",
       "      <td>0.0</td>\n",
       "    </tr>\n",
       "    <tr>\n",
       "      <th>2010-07-02 00:00:00-04:00</th>\n",
       "      <td>1.533333</td>\n",
       "      <td>1.540000</td>\n",
       "      <td>1.247333</td>\n",
       "      <td>1.280000</td>\n",
       "      <td>77097000</td>\n",
       "      <td>0.0</td>\n",
       "      <td>0.0</td>\n",
       "    </tr>\n",
       "    <tr>\n",
       "      <th>2010-07-06 00:00:00-04:00</th>\n",
       "      <td>1.333333</td>\n",
       "      <td>1.333333</td>\n",
       "      <td>1.055333</td>\n",
       "      <td>1.074000</td>\n",
       "      <td>103003500</td>\n",
       "      <td>0.0</td>\n",
       "      <td>0.0</td>\n",
       "    </tr>\n",
       "  </tbody>\n",
       "</table>\n",
       "</div>"
      ],
      "text/plain": [
       "                               Open      High       Low     Close     Volume  \\\n",
       "Date                                                                           \n",
       "2010-06-29 00:00:00-04:00  1.266667  1.666667  1.169333  1.592667  281494500   \n",
       "2010-06-30 00:00:00-04:00  1.719333  2.028000  1.553333  1.588667  257806500   \n",
       "2010-07-01 00:00:00-04:00  1.666667  1.728000  1.351333  1.464000  123282000   \n",
       "2010-07-02 00:00:00-04:00  1.533333  1.540000  1.247333  1.280000   77097000   \n",
       "2010-07-06 00:00:00-04:00  1.333333  1.333333  1.055333  1.074000  103003500   \n",
       "\n",
       "                           Dividends  Stock Splits  \n",
       "Date                                                \n",
       "2010-06-29 00:00:00-04:00        0.0           0.0  \n",
       "2010-06-30 00:00:00-04:00        0.0           0.0  \n",
       "2010-07-01 00:00:00-04:00        0.0           0.0  \n",
       "2010-07-02 00:00:00-04:00        0.0           0.0  \n",
       "2010-07-06 00:00:00-04:00        0.0           0.0  "
      ]
     },
     "execution_count": 3,
     "metadata": {},
     "output_type": "execute_result"
    }
   ],
   "source": [
    "tesla_ticker = yf.Ticker(\"TSLA\")\n",
    "tesla_hx = tesla_ticker.history(period=\"max\")\n",
    "tesla_hx.head()"
   ]
  },
  {
   "cell_type": "markdown",
   "id": "7bed792d-db98-416d-8acc-b6c6cfc1a740",
   "metadata": {
    "tags": []
   },
   "source": [
    "<h2> 2nd Question"
   ]
  },
  {
   "cell_type": "code",
   "execution_count": 5,
   "id": "e95a646c-6594-4ec0-a94c-097cbac279fc",
   "metadata": {
    "tags": []
   },
   "outputs": [
    {
     "name": "stdout",
     "output_type": "stream",
     "text": [
      "                                 Open        High         Low       Close  \\\n",
      "Date                                                                        \n",
      "2023-10-17 00:00:00-04:00  250.100006  257.179993  247.080002  254.850006   \n",
      "2023-10-18 00:00:00-04:00  252.699997  254.630005  242.080002  242.679993   \n",
      "2023-10-19 00:00:00-04:00  225.949997  230.610001  216.779999  220.110001   \n",
      "2023-10-20 00:00:00-04:00  217.009995  218.860001  210.419998  211.990005   \n",
      "2023-10-23 00:00:00-04:00  210.000000  216.909897  202.509995  213.380005   \n",
      "\n",
      "                              Volume  Dividends  Stock Splits  \n",
      "Date                                                           \n",
      "2023-10-17 00:00:00-04:00   93562900        0.0           0.0  \n",
      "2023-10-18 00:00:00-04:00  125147800        0.0           0.0  \n",
      "2023-10-19 00:00:00-04:00  170772700        0.0           0.0  \n",
      "2023-10-20 00:00:00-04:00  137734000        0.0           0.0  \n",
      "2023-10-23 00:00:00-04:00  109608302        0.0           0.0  \n"
     ]
    }
   ],
   "source": [
    "tesla_ticker = yf.Ticker(\"TSLA\")\n",
    "tesla_hx = tesla_ticker.history(period=\"max\")\n",
    "last_rows = tesla_hx.tail(5)\n",
    "print(last_rows)"
   ]
  },
  {
   "cell_type": "markdown",
   "id": "307c22b2-cbbf-460a-a0d1-5bdf9fc819e5",
   "metadata": {},
   "source": [
    "<h2> 3rd Question"
   ]
  },
  {
   "cell_type": "code",
   "execution_count": 9,
   "id": "427fe12f-039d-433f-a886-94de3582db40",
   "metadata": {
    "tags": []
   },
   "outputs": [
    {
     "name": "stdout",
     "output_type": "stream",
     "text": [
      "                               Open      High       Low     Close    Volume  \\\n",
      "Date                                                                          \n",
      "2002-02-13 00:00:00-05:00  1.620129  1.693350  1.603296  1.691667  76216000   \n",
      "2002-02-14 00:00:00-05:00  1.712707  1.716073  1.670626  1.683250  11021600   \n",
      "2002-02-15 00:00:00-05:00  1.683250  1.687458  1.658002  1.674834   8389600   \n",
      "2002-02-19 00:00:00-05:00  1.666418  1.666418  1.578047  1.607504   7410400   \n",
      "2002-02-20 00:00:00-05:00  1.615920  1.662209  1.603296  1.662209   6892800   \n",
      "\n",
      "                           Dividends  Stock Splits  \n",
      "Date                                                \n",
      "2002-02-13 00:00:00-05:00        0.0           0.0  \n",
      "2002-02-14 00:00:00-05:00        0.0           0.0  \n",
      "2002-02-15 00:00:00-05:00        0.0           0.0  \n",
      "2002-02-19 00:00:00-05:00        0.0           0.0  \n",
      "2002-02-20 00:00:00-05:00        0.0           0.0  \n"
     ]
    }
   ],
   "source": [
    "gme_stock_ticker = yf.Ticker(\"GME\")\n",
    "gme_hx = gme_stock_ticker.history(period=\"max\")\n",
    "print(gme_hx.head())"
   ]
  },
  {
   "cell_type": "markdown",
   "id": "3dca3db8-a310-4926-83a9-1f0a873f736a",
   "metadata": {},
   "source": [
    "<h2> Question 4: Use Webscraping to Extract GME Revenue Data"
   ]
  },
  {
   "cell_type": "code",
   "execution_count": 10,
   "id": "06b6d358-837f-4e8e-8733-c4d282bb4d31",
   "metadata": {
    "tags": []
   },
   "outputs": [
    {
     "name": "stdout",
     "output_type": "stream",
     "text": [
      "                            Open   High    Low   Close   Volume  Dividends  \\\n",
      "Date                                                                         \n",
      "2023-10-17 00:00:00-04:00  14.25  14.83  14.10  14.120  3842400        0.0   \n",
      "2023-10-18 00:00:00-04:00  14.00  14.25  13.81  13.850  4045800        0.0   \n",
      "2023-10-19 00:00:00-04:00  13.80  13.85  12.90  13.160  5808000        0.0   \n",
      "2023-10-20 00:00:00-04:00  13.18  13.80  13.12  13.440  3657600        0.0   \n",
      "2023-10-23 00:00:00-04:00  13.28  13.59  13.04  13.461  1479117        0.0   \n",
      "\n",
      "                           Stock Splits  \n",
      "Date                                     \n",
      "2023-10-17 00:00:00-04:00           0.0  \n",
      "2023-10-18 00:00:00-04:00           0.0  \n",
      "2023-10-19 00:00:00-04:00           0.0  \n",
      "2023-10-20 00:00:00-04:00           0.0  \n",
      "2023-10-23 00:00:00-04:00           0.0  \n"
     ]
    }
   ],
   "source": [
    "gme_stock_ticker = yf.Ticker(\"GME\")\n",
    "gme_hx = gme_stock_ticker.history(period=\"max\")\n",
    "gme_last5 = gme_hx.tail()\n",
    "print(gme_last5)"
   ]
  },
  {
   "cell_type": "markdown",
   "id": "15bd4624-1df6-483e-b7b7-6a405ccadf8d",
   "metadata": {},
   "source": [
    "<h2> Question 5: Plot Tesla Stock Graph"
   ]
  },
  {
   "cell_type": "code",
   "execution_count": 11,
   "id": "1654f49d-f695-41fd-a6ec-710c02b02c94",
   "metadata": {
    "tags": []
   },
   "outputs": [
    {
     "data": {
      "image/png": "[encoded data removed]",
      "text/plain": [
       "<Figure size 640x480 with 1 Axes>"
      ]
     },
     "metadata": {},
     "output_type": "display_data"
    }
   ],
   "source": [
    "tesla_ticker = yf.Ticker(\"TSLA\")\n",
    "tesla_hx = tesla_ticker.history(period=\"max\")\n",
    "tesla_reset = tesla_hx.reset_index(inplace=True)\n",
    "tesla_graph = tesla_hx.plot(x=\"Date\", y=\"Open\")"
   ]
  },
  {
   "cell_type": "markdown",
   "id": "189473c4-4a97-4a1e-9d13-1909f9390d30",
   "metadata": {},
   "source": [
    "<h2> Question 6: Plot GameStop Stock Graph"
   ]
  },
  {
   "cell_type": "code",
   "execution_count": 12,
   "id": "73956aa1-d2bc-4188-8724-519fa790c6af",
   "metadata": {
    "tags": []
   },
   "outputs": [
    {
     "data": {
      "image/png": "[encoded data removed]",
      "text/plain": [
       "<Figure size 640x480 with 1 Axes>"
      ]
     },
     "metadata": {},
     "output_type": "display_data"
    }
   ],
   "source": [
    "gme_ticker = yf.Ticker(\"GME\") #using the Ticker module to access stock information\n",
    "gme_hx = gme_ticker.history(period=\"max\")  #history module to access the information \n",
    "gme_reset_index = gme_hx.reset_index(inplace=True)  #reseting index to allow plotting\n",
    "gme_graph = gme_hx.plot(x=\"Date\", y=\"Open\") #using the plot module to graph"
   ]
  },
  {
   "cell_type": "code",
   "execution_count": null,
   "id": "705e75b9-2ea7-4399-ba32-f43aec728529",
   "metadata": {},
   "outputs": [],
   "source": []
  }
 ],
 "metadata": {
  "kernelspec": {
   "display_name": "Python",
   "language": "python",
   "name": "conda-env-python-py"
  },
  "language_info": {
   "codemirror_mode": {
    "name": "ipython",
    "version": 3
   },
   "file_extension": ".py",
   "mimetype": "text/x-python",
   "name": "python",
   "nbconvert_exporter": "python",
   "pygments_lexer": "ipython3",
   "version": "3.7.12"
  }
 },
 "nbformat": 4,
 "nbformat_minor": 5
}
